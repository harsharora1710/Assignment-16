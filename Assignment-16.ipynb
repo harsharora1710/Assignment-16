{
 "cells": [
  {
   "cell_type": "code",
   "execution_count": 1,
   "id": "85413d5b-284c-4d8e-840c-9ae639bb8697",
   "metadata": {},
   "outputs": [],
   "source": [
    "#q1)\n",
    "# GET and POST are HTTP methods used for communication between clients and servers.\n",
    "# GET is used for retrieving data from a server, and the data is sent as query parameters in the URL.\n",
    "# POST is used for sending data to a server to create or update a resource, and the data is sent in the request body.\n",
    "# GET requests are idempotent and visible in the URL, while POST requests are not idempotent and have data hidden in the request body."
   ]
  },
  {
   "cell_type": "code",
   "execution_count": 2,
   "id": "7eb3797b-4180-4b8f-804b-f96b85b6826b",
   "metadata": {},
   "outputs": [],
   "source": [
    "#q2)\n",
    "#The request object in Flask is used to access and handle incoming HTTP requests. \n",
    "#It provides methods and attributes to retrieve data from the request, such as form data, query parameters, headers, and request body. \n",
    "#It allows developers to access and process data sent by clients and provide appropriate responses."
   ]
  },
  {
   "cell_type": "code",
   "execution_count": 3,
   "id": "1e00716b-d43c-4a3b-aef4-0777ff7ca4c7",
   "metadata": {},
   "outputs": [],
   "source": [
    "#q3)\n",
    "# The redirect() function in Flask is used to perform a redirection to a different URL. \n",
    "#It is commonly used to redirect the user to a different page or URL after a specific action or operation. \n",
    "#It helps in managing the flow of the application and providing a seamless user experience by directing them to the desired destination."
   ]
  },
  {
   "cell_type": "code",
   "execution_count": 4,
   "id": "f7d2caaf-6f03-45e2-9cfd-f435b9702f66",
   "metadata": {},
   "outputs": [],
   "source": [
    "#q4)\n",
    "# In Flask, templates are used to separate the presentation logic from the application logic. Templates are files that contain the structure and layout of the HTML pages, and they allow developers to dynamically generate HTML content by embedding variables and control structures.\n",
    "\n",
    "# The render_template() function in Flask is used to render and display the contents of a template. It takes the name of the template file as an argument and returns the rendered HTML content to be sent as a response to the client."
   ]
  },
  {
   "cell_type": "code",
   "execution_count": null,
   "id": "9d0264be-41fd-43aa-a52b-1ef8a28c4ffd",
   "metadata": {},
   "outputs": [],
   "source": [
    "#q5)\n"
   ]
  }
 ],
 "metadata": {
  "kernelspec": {
   "display_name": "Python 3 (ipykernel)",
   "language": "python",
   "name": "python3"
  },
  "language_info": {
   "codemirror_mode": {
    "name": "ipython",
    "version": 3
   },
   "file_extension": ".py",
   "mimetype": "text/x-python",
   "name": "python",
   "nbconvert_exporter": "python",
   "pygments_lexer": "ipython3",
   "version": "3.10.8"
  }
 },
 "nbformat": 4,
 "nbformat_minor": 5
}
